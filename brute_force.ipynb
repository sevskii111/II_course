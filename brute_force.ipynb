{
 "metadata": {
  "language_info": {
   "codemirror_mode": {
    "name": "ipython",
    "version": 3
   },
   "file_extension": ".py",
   "mimetype": "text/x-python",
   "name": "python",
   "nbconvert_exporter": "python",
   "pygments_lexer": "ipython3",
   "version": "3.8.5-final"
  },
  "orig_nbformat": 2,
  "kernelspec": {
   "name": "python3",
   "display_name": "Python 3",
   "language": "python"
  }
 },
 "nbformat": 4,
 "nbformat_minor": 2,
 "cells": [
  {
   "cell_type": "code",
   "execution_count": 78,
   "metadata": {},
   "outputs": [
    {
     "output_type": "stream",
     "name": "stdout",
     "text": [
      "The autoreload extension is already loaded. To reload it, use:\n  %reload_ext autoreload\n"
     ]
    }
   ],
   "source": [
    "# Подключение внешних модулей\n",
    "import os\n",
    "import time\n",
    "import numpy as np\n",
    "import pydot\n",
    "# Настройка упрощает разработку, не влияет на работу\n",
    "%load_ext autoreload\n",
    "%autoreload 2\n",
    "\n",
    "# Импорт модуля для рисования дерева\n",
    "from draw import visit \n",
    "\n",
    "# Если используется ОС Windows необходимо указать путь к Graphviz\n",
    "if os.name == \"nt\":\n",
    "    os.environ[\"PATH\"] += os.pathsep + 'C:/Program Files/Graphviz/bin'"
   ]
  },
  {
   "source": [
    "# Метод полного перебора"
   ],
   "cell_type": "markdown",
   "metadata": {}
  },
  {
   "cell_type": "code",
   "execution_count": 79,
   "metadata": {},
   "outputs": [],
   "source": [
    "V = 10#int(input(\"Объём рюкзака: \"))\n",
    "n = 5#int(input(\"Колличество предметов в рюкзаке: \"))\n",
    "v = [3, 3, 4, 4, 5] #[int(input(\"Объём {} предмета\".format(i + 1))) for i in range(n)]"
   ]
  },
  {
   "cell_type": "code",
   "execution_count": 80,
   "metadata": {},
   "outputs": [],
   "source": [
    "# Рекурсиваня функция перебора\n",
    "# В ней же считаем T для последющего подсчёта \n",
    "T = -1\n",
    "def f(V, v, soulutions, cum_sums, history= \"\", v_sum = 0):\n",
    "    global T\n",
    "    T += 1\n",
    "    # Не раскрывем вершину, если:\n",
    "    # 1) У нас закончились предметы, для которых мы можем сделать выбор\n",
    "    # 2) Сумма объёмов предметов которые мы сложили в рюкзак равна или превышает его объём\n",
    "    # 3) Сумма объёмов предметов которые мы сложили в рюкзак и объёмов предметов для которых мы ещё не сделали выбор меньше объёма рюказака\n",
    "    if len(v) == 0 or v_sum >= V or (V - v_sum) > cum_sums[-(len(v))]:\n",
    "        # Если набранный объём равен объёму рюказака сохраняем маску преметов в массив решений \n",
    "        res = None\n",
    "        if V == v_sum:\n",
    "            soulutions.append(history + \"0\" * len(v))\n",
    "            res = \"0\" * len(v)\n",
    "            res += \" = \" + str(v_sum) + \" \"\n",
    "            res += \"S\"\n",
    "        else:\n",
    "            # Всё что находится в этом else необъодимо для подготовки дерева к отрисовке и не имеет непосредственного отношения к решению задачи\n",
    "            if v_sum > V:\n",
    "                res = \"0\" * len(v)\n",
    "                res += \" = \" + str(v_sum) + \" \"\n",
    "            else:\n",
    "                res = \"1\" * len(v)\n",
    "                if len(v) > 0:\n",
    "                    res += \" = \" + str(v_sum + cum_sums[-(len(v))]) + \" \"\n",
    "                else:\n",
    "                    res += \" = \" + str(v_sum) + \" \"\n",
    "\n",
    "            res += \"F\"\n",
    "        return res\n",
    "\n",
    "    # Рекурсивно вызываем функцию для случаев когда следющий предмет был и не был взят\n",
    "    return {\n",
    "        history + \"0\": f(V, v[1:], soulutions, cum_sums, history + \"0\", v_sum), \n",
    "        history + \"1\": f(V, v[1:], soulutions, cum_sums, history + \"1\", v_sum + v[0])\n",
    "        }"
   ]
  },
  {
   "cell_type": "code",
   "execution_count": 81,
   "metadata": {},
   "outputs": [
    {
     "output_type": "stream",
     "name": "stdout",
     "text": [
      "--- 0 miliseconds ---\n['11010', '11100']\n"
     ]
    }
   ],
   "source": [
    "soulutions = []\n",
    "start_time = time.time()\n",
    "# Считаем суммарный объём всех прдметов начиная с i-того для i в [0, n)\n",
    "cum_sum = list(reversed(np.cumsum(list(reversed(v)))))\n",
    "# Запускаем рекурсивню функцию\n",
    "r = {\"?\" * len(v): f(V, v, soulutions, cum_sum)}\n",
    "# Выводим время выполнения и все найденные подпоследовательности\n",
    "print(\"--- %d miliseconds ---\" % ((time.time() - start_time) * 1000))\n",
    "print(soulutions)"
   ]
  },
  {
   "cell_type": "code",
   "execution_count": 82,
   "metadata": {},
   "outputs": [],
   "source": [
    "# Выводим дерево в png файл\n",
    "graph = pydot.Dot(graph_type='graph')\n",
    "visit(graph, r, count=n)\n",
    "# Для отладки можно так же вывести дерево в dot файл\n",
    "# graph.write('./graph.dot')\n",
    "graph.write_png('./graph.png')"
   ]
  },
  {
   "cell_type": "code",
   "execution_count": 83,
   "metadata": {},
   "outputs": [
    {
     "output_type": "stream",
     "name": "stdout",
     "text": [
      "L = 8\nT = 38\nP = 0.21\n"
     ]
    }
   ],
   "source": [
    "# Для подсчёта L строим дерево сохраняя только те ветки, которые ведут к подпоследовательностям явлющимися равными объёму рюказака \n",
    "solution_r = {}\n",
    "L = 0\n",
    "for solution in soulutions:\n",
    "    curr_pos = solution_r\n",
    "    for c in solution:\n",
    "        if c not in curr_pos:\n",
    "            curr_pos[c] = {}\n",
    "            L += 1\n",
    "        curr_pos = curr_pos[c]\n",
    "    \n",
    "# Рассчитываем и выводим критерий целенаправленности\n",
    "print(f\"L = {L}\")\n",
    "print(f\"T = {T}\")\n",
    "P = L / T\n",
    "print(f\"P = {round(P, 2)}\")\n"
   ]
  },
  {
   "cell_type": "code",
   "execution_count": null,
   "metadata": {},
   "outputs": [],
   "source": []
  }
 ]
}