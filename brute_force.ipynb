{
 "metadata": {
  "language_info": {
   "codemirror_mode": {
    "name": "ipython",
    "version": 3
   },
   "file_extension": ".py",
   "mimetype": "text/x-python",
   "name": "python",
   "nbconvert_exporter": "python",
   "pygments_lexer": "ipython3",
   "version": "3.8.3-final"
  },
  "orig_nbformat": 2,
  "kernelspec": {
   "name": "python3",
   "display_name": "Python 3",
   "language": "python"
  }
 },
 "nbformat": 4,
 "nbformat_minor": 2,
 "cells": [
  {
   "cell_type": "code",
   "execution_count": 62,
   "metadata": {},
   "outputs": [
    {
     "output_type": "stream",
     "name": "stdout",
     "text": [
      "The autoreload extension is already loaded. To reload it, use:\n  %reload_ext autoreload\n"
     ]
    }
   ],
   "source": [
    "# Подключение модулей\n",
    "import os\n",
    "os.environ[\"PATH\"] += os.pathsep + 'C:/Program Files/Graphviz/bin'\n",
    "%load_ext autoreload\n",
    "%autoreload 2\n",
    "import pydot\n",
    "from draw import visit "
   ]
  },
  {
   "source": [
    "# Метод полного перебора"
   ],
   "cell_type": "markdown",
   "metadata": {}
  },
  {
   "cell_type": "code",
   "execution_count": 63,
   "metadata": {},
   "outputs": [],
   "source": [
    "# Считывание всех входных данных\n",
    "V = int(input(\"Объём рюкзака: \"))\n",
    "n = int(input(\"Колличество предметов в рюкзаке: \"))\n",
    "v = [int(input(\"Объём {} предмета\".format(i + 1))) for i in range(n)]"
   ]
  },
  {
   "cell_type": "code",
   "execution_count": 64,
   "metadata": {},
   "outputs": [],
   "source": [
    "# Рекурсиваня функция перебора\n",
    "def f(V, v, soulutions, history= \"\", v_sum = 0):\n",
    "    if len(v) == 0 or v_sum == V:\n",
    "        res = \" = \" + str(v_sum) + \" \"\n",
    "        if V == v_sum:\n",
    "            soulutions.append(history)\n",
    "            res += \"S\"\n",
    "        else:\n",
    "            res += \"F\"\n",
    "        return res\n",
    "    return {\n",
    "        history + \"0\": f(V, v[1:], soulutions, history + \"0\", v_sum), \n",
    "        history + \"1\": f(V, v[1:], soulutions, history + \"1\", v_sum + v[0])\n",
    "        }"
   ]
  },
  {
   "cell_type": "code",
   "execution_count": 65,
   "metadata": {},
   "outputs": [
    {
     "output_type": "stream",
     "name": "stdout",
     "text": [
      "['000010', '011000', '100100']\n"
     ]
    }
   ],
   "source": [
    "soulutions = []\n",
    "r = {\"Graph\": f(V, v, soulutions)}\n",
    "print(soulutions)"
   ]
  },
  {
   "cell_type": "code",
   "execution_count": 66,
   "metadata": {},
   "outputs": [],
   "source": [
    "graph = pydot.Dot(graph_type='graph')\n",
    "visit(graph, r)\n",
    "graph.write_png('./graph.png')"
   ]
  },
  {
   "cell_type": "code",
   "execution_count": null,
   "metadata": {},
   "outputs": [],
   "source": []
  },
  {
   "cell_type": "code",
   "execution_count": null,
   "metadata": {},
   "outputs": [],
   "source": []
  }
 ]
}